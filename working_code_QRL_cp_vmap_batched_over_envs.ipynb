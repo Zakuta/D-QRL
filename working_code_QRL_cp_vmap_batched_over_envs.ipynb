{
  "nbformat": 4,
  "nbformat_minor": 0,
  "metadata": {
    "colab": {
      "provenance": [],
      "authorship_tag": "ABX9TyPz2tLo0QFyJRRNn/dZdudh",
      "include_colab_link": true
    },
    "kernelspec": {
      "name": "python3",
      "display_name": "Python 3"
    },
    "language_info": {
      "name": "python"
    }
  },
  "cells": [
    {
      "cell_type": "markdown",
      "metadata": {
        "id": "view-in-github",
        "colab_type": "text"
      },
      "source": [
        "<a href=\"https://colab.research.google.com/github/Zakuta/D-QRL/blob/main/working_code_QRL_cp_vmap_batched_over_envs.ipynb\" target=\"_parent\"><img src=\"https://colab.research.google.com/assets/colab-badge.svg\" alt=\"Open In Colab\"/></a>"
      ]
    },
    {
      "cell_type": "code",
      "source": [
        "# !pip install equinox\n",
        "# !pip install tensorcircuit\n",
        "# !pip install -U qiskit\n",
        "# !pip install tensorcircuit\n",
        "# !pip install cirq\n",
        "# !pip install openfermion\n",
        "# !pip install gymnax\n",
        "# !pip install brax\n",
        "# !pip install distrax\n",
        "# !pip install flax"
      ],
      "metadata": {
        "id": "EaZS14YOfTY8"
      },
      "execution_count": null,
      "outputs": []
    },
    {
      "cell_type": "code",
      "execution_count": 8,
      "metadata": {
        "id": "NcegJGa5fKR_"
      },
      "outputs": [],
      "source": [
        "import jax\n",
        "from jax import config\n",
        "\n",
        "config.update(\"jax_debug_nans\", True)\n",
        "config.update(\"jax_enable_x64\", True)\n",
        "\n",
        "import jax.numpy as jnp\n",
        "DTYPE=jnp.float64\n",
        "\n",
        "import chex\n",
        "import numpy as np\n",
        "import optax\n",
        "from flax import struct\n",
        "from functools import partial\n",
        "import tensorcircuit as tc\n",
        "\n",
        "import equinox as eqx\n",
        "import types\n",
        "from jaxtyping import Array, PRNGKeyArray\n",
        "from typing import Union, Sequence, List, NamedTuple, Optional, Tuple, Any, Literal, TypeVar\n",
        "import jax.tree_util as jtu\n",
        "import gymnax\n",
        "import distrax\n",
        "from gymnax.environments import environment, spaces\n",
        "from brax import envs\n",
        "from brax.envs.wrappers.training import EpisodeWrapper, AutoResetWrapper\n",
        "\n",
        "K = tc.set_backend(\"jax\")"
      ]
    },
    {
      "cell_type": "code",
      "source": [
        "# shamelessly taken from purejaxrl: https://github.com/luchris429/purejaxrl/blob/main/purejaxrl/wrappers.py\n",
        "\n",
        "class GymnaxWrapper(object):\n",
        "    \"\"\"Base class for Gymnax wrappers.\"\"\"\n",
        "\n",
        "    def __init__(self, env):\n",
        "        self._env = env\n",
        "\n",
        "    # provide proxy access to regular attributes of wrapped object\n",
        "    def __getattr__(self, name):\n",
        "        return getattr(self._env, name)\n",
        "\n",
        "\n",
        "class FlattenObservationWrapper(GymnaxWrapper):\n",
        "    \"\"\"Flatten the observations of the environment.\"\"\"\n",
        "\n",
        "    def __init__(self, env: environment.Environment):\n",
        "        super().__init__(env)\n",
        "\n",
        "    def observation_space(self, params) -> spaces.Box:\n",
        "        assert isinstance(\n",
        "            self._env.observation_space(params), spaces.Box\n",
        "        ), \"Only Box spaces are supported for now.\"\n",
        "        return spaces.Box(\n",
        "            low=self._env.observation_space(params).low,\n",
        "            high=self._env.observation_space(params).high,\n",
        "            shape=(np.prod(self._env.observation_space(params).shape),),\n",
        "            dtype=self._env.observation_space(params).dtype,\n",
        "        )\n",
        "\n",
        "    @partial(jax.jit, static_argnums=(0,))\n",
        "    def reset(\n",
        "        self, key: chex.PRNGKey, params: Optional[environment.EnvParams] = None\n",
        "    ) -> Tuple[chex.Array, environment.EnvState]:\n",
        "        obs, state = self._env.reset(key, params)\n",
        "        obs = jnp.reshape(obs, (-1,))\n",
        "        return obs, state\n",
        "\n",
        "    @partial(jax.jit, static_argnums=(0,))\n",
        "    def step(\n",
        "        self,\n",
        "        key: chex.PRNGKey,\n",
        "        state: environment.EnvState,\n",
        "        action: Union[int, float],\n",
        "        params: Optional[environment.EnvParams] = None,\n",
        "    ) -> Tuple[chex.Array, environment.EnvState, float, bool, dict]:\n",
        "        obs, state, reward, done, info = self._env.step(key, state, action, params)\n",
        "        obs = jnp.reshape(obs, (-1,))\n",
        "        return obs, state, reward, done, info\n",
        "\n",
        "\n",
        "@struct.dataclass\n",
        "class LogEnvState:\n",
        "    env_state: environment.EnvState\n",
        "    episode_returns: float\n",
        "    episode_lengths: int\n",
        "    returned_episode_returns: float\n",
        "    returned_episode_lengths: int\n",
        "    timestep: int\n",
        "\n",
        "\n",
        "class LogWrapper(GymnaxWrapper):\n",
        "    \"\"\"Log the episode returns and lengths.\"\"\"\n",
        "\n",
        "    def __init__(self, env: environment.Environment):\n",
        "        super().__init__(env)\n",
        "\n",
        "    @partial(jax.jit, static_argnums=(0,))\n",
        "    def reset(\n",
        "        self, key: chex.PRNGKey, params: Optional[environment.EnvParams] = None\n",
        "    ) -> Tuple[chex.Array, environment.EnvState]:\n",
        "        obs, env_state = self._env.reset(key, params)\n",
        "        state = LogEnvState(env_state, 0, 0, 0, 0, 0)\n",
        "        return obs, state\n",
        "\n",
        "    @partial(jax.jit, static_argnums=(0,))\n",
        "    def step(\n",
        "        self,\n",
        "        key: chex.PRNGKey,\n",
        "        state: environment.EnvState,\n",
        "        action: Union[int, float],\n",
        "        params: Optional[environment.EnvParams] = None,\n",
        "    ) -> Tuple[chex.Array, environment.EnvState, float, bool, dict]:\n",
        "        obs, env_state, reward, done, info = self._env.step(\n",
        "            key, state.env_state, action, params\n",
        "        )\n",
        "        new_episode_return = state.episode_returns + reward\n",
        "        new_episode_length = state.episode_lengths + 1\n",
        "        state = LogEnvState(\n",
        "            env_state=env_state,\n",
        "            episode_returns=new_episode_return * (1 - done),\n",
        "            episode_lengths=new_episode_length * (1 - done),\n",
        "            returned_episode_returns=state.returned_episode_returns * (1 - done)\n",
        "            + new_episode_return * done,\n",
        "            returned_episode_lengths=state.returned_episode_lengths * (1 - done)\n",
        "            + new_episode_length * done,\n",
        "            timestep=state.timestep + 1,\n",
        "        )\n",
        "        info[\"returned_episode_returns\"] = state.returned_episode_returns\n",
        "        info[\"returned_episode_lengths\"] = state.returned_episode_lengths\n",
        "        info[\"timestep\"] = state.timestep\n",
        "        info[\"returned_episode\"] = done\n",
        "        return obs, state, reward, done, info"
      ],
      "metadata": {
        "id": "YB8MIfV0fYNs"
      },
      "execution_count": 9,
      "outputs": []
    },
    {
      "cell_type": "code",
      "source": [
        "# def reuploading_circuit(n_qubits, n_layers, rot_params, input_params, X):\n",
        "#   circuit = tc.Circuit(n_qubits)\n",
        "\n",
        "#   for l in range(n_layers):\n",
        "#     # variational part\n",
        "#     for qubit_idx in range(n_qubits):\n",
        "#       circuit.rx(qubit_idx, theta=rot_params[l, qubit_idx, 0])\n",
        "#       circuit.ry(qubit_idx, theta=rot_params[l, qubit_idx, 1])\n",
        "#       circuit.rz(qubit_idx, theta=rot_params[l, qubit_idx, 2])\n",
        "\n",
        "#     # entangling part\n",
        "#     for qubit_idx in range(n_qubits - 1):\n",
        "#       circuit.cnot(qubit_idx, qubit_idx + 1)\n",
        "#     if n_qubits != 2:\n",
        "#       circuit.cnot(n_qubits - 1, 0)\n",
        "\n",
        "#     # encoding part\n",
        "#     for qubit_idx in range(n_qubits):\n",
        "#       input = X[qubit_idx] * input_params[l, qubit_idx]\n",
        "#       # print(input)\n",
        "#       circuit.rx(qubit_idx, theta=input)\n",
        "\n",
        "#   # last variational part\n",
        "#   for qubit_idx in range(n_qubits):\n",
        "#     circuit.rx(qubit_idx, theta=rot_params[n_layers, qubit_idx, 0])\n",
        "#     circuit.ry(qubit_idx, theta=rot_params[n_layers, qubit_idx, 1])\n",
        "#     circuit.rz(qubit_idx, theta=rot_params[n_layers, qubit_idx, 2])\n",
        "\n",
        "#   return circuit\n",
        "\n",
        "\n",
        "# class QuantumActor(eqx.Module):\n",
        "#   theta: jax.Array # trainable\n",
        "#   lmbd: jax.Array # trainable\n",
        "#   w: jax.Array # trainable\n",
        "#   n_qubits: int = eqx.field(static=True)\n",
        "#   n_layers: int = eqx.field(static=True)\n",
        "#   beta: float = eqx.field(static=True)\n",
        "#   n_actions: Sequence[int] = eqx.field(static=True)\n",
        "#   # key: int\n",
        "\n",
        "#   def __init__(self, n_qubits, n_layers, beta, n_actions, params: Optional, key = 42):\n",
        "\n",
        "#     key = jax.random.PRNGKey(key)\n",
        "#     key, _key = jax.random.split(key, num=2)\n",
        "\n",
        "#     if params is None:\n",
        "#       # rotation_params\n",
        "#       self.theta = params['thetas']\n",
        "#       # input encoding params\n",
        "#       self.lmbd = params['lmbds']\n",
        "#       # observable weights\n",
        "#       self.w = params['ws']\n",
        "#     else:\n",
        "#       self.theta = jax.random.uniform(key=key, shape=(n_layers + 1, n_qubits, 3),\n",
        "#                                     minval=0.0, maxval=np.pi, dtype=DTYPE)\n",
        "#       self.lmbd = jnp.ones(shape=(n_layers, n_qubits), dtype=DTYPE)\n",
        "#       self.w = jnp.array([[(-1.) ** i for i in range(n_actions)]])\n",
        "\n",
        "\n",
        "#     self.n_qubits = n_qubits\n",
        "#     self.n_layers = n_layers\n",
        "#     self.beta = beta\n",
        "#     self.n_actions = n_actions\n",
        "\n",
        "#   def quantum_policy_circuit(self, inputs):\n",
        "\n",
        "#     # this can be any PQC of the user's choice. hence, I made the decision to make a separate function within this class\n",
        "#     circuit = reuploading_circuit(self.n_qubits, self.n_layers, self.theta, self.lmbd, inputs)\n",
        "\n",
        "#     return K.real(circuit.expectation_ps(z=np.arange(self.n_qubits)))\n",
        "\n",
        "#   def alternating(self, inputs):\n",
        "#     return jnp.matmul(inputs, self.w)\n",
        "\n",
        "#   def get_params(self):\n",
        "#     return {'thetas': self.theta, 'lmbds': self.lmbd, 'ws': self.w}\n",
        "\n",
        "#   def __call__(self, x):\n",
        "\n",
        "#     pqc = self.quantum_policy_circuit(x)\n",
        "#     alt = self.alternating(jnp.array([pqc], dtype=DTYPE))\n",
        "#     actor_mean = eqx.nn.Lambda(lambda x: x * self.beta)(alt)\n",
        "#     policy = distrax.Softmax(actor_mean)\n",
        "\n",
        "#     return policy\n",
        "\n",
        "\n",
        "# class TrainState(eqx.Module):\n",
        "#   model: eqx.Module\n",
        "#   optimizer: optax.GradientTransformation = eqx.field(static=True)\n",
        "#   opt_state: optax.OptState\n",
        "\n",
        "#   def __init__(self, model, optimizer, opt_state):\n",
        "#     self.model = model\n",
        "#     self.optimizer = optimizer\n",
        "#     self.opt_state = opt_state\n",
        "\n",
        "#   def apply_updates_to_model(self, new_params):\n",
        "#     # this function is specific and works for this example only. one can think of\n",
        "#     # generalizing it to work for updating any given attribute/params of the model.\n",
        "\n",
        "#     model_new = eqx.tree_at(where=lambda model: model.theta, pytree=self.model, replace=new_params['thetas'])\n",
        "#     model_new = eqx.tree_at(where=lambda model: model.lmbd, pytree=model_new, replace=new_params['lmbds'])\n",
        "#     model_new = eqx.tree_at(where=lambda model: model.w, pytree=model_new, replace=new_params['ws'])\n",
        "\n",
        "#     return model_new\n",
        "\n",
        "#   def apply_gradients(self, params, grads):\n",
        "#     grads = {'thetas': grads.theta, 'lmbds': grads.lmbd, 'ws': grads.w}\n",
        "#     updates, opt_state = self.optimizer.update(grads, self.opt_state, params)\n",
        "#     new_params = optax.apply_updates(params, updates)\n",
        "#     model_new = self.apply_updates_to_model(new_params)\n",
        "#     # model = eqx.apply_updates(self.model, updates)\n",
        "#     new_train_state = self.__class__(model=model_new, optimizer=self.optimizer, opt_state=opt_state)\n",
        "#     return new_train_state\n",
        "\n",
        "# class Transition(NamedTuple):\n",
        "#   done: jnp.ndarray\n",
        "#   action: jnp.ndarray\n",
        "#   reward: jnp.ndarray\n",
        "#   log_prob: jnp.ndarray\n",
        "#   obs: jnp.ndarray\n",
        "#   # params: jnp.ndarray\n",
        "#   info: jnp.ndarray"
      ],
      "metadata": {
        "id": "9QwFBntkfa7u"
      },
      "execution_count": 9,
      "outputs": []
    },
    {
      "cell_type": "code",
      "source": [
        "def reuploading_circuit(n_qubits, n_layers, rot_params, input_params, X):\n",
        "  circuit = tc.Circuit(n_qubits)\n",
        "\n",
        "  for l in range(n_layers):\n",
        "    # variational part\n",
        "    for qubit_idx in range(n_qubits):\n",
        "      circuit.rx(qubit_idx, theta=rot_params[l, qubit_idx, 0])\n",
        "      circuit.ry(qubit_idx, theta=rot_params[l, qubit_idx, 1])\n",
        "      circuit.rz(qubit_idx, theta=rot_params[l, qubit_idx, 2])\n",
        "\n",
        "    # entangling part\n",
        "    for qubit_idx in range(n_qubits - 1):\n",
        "      circuit.cnot(qubit_idx, qubit_idx + 1)\n",
        "    if n_qubits != 2:\n",
        "      circuit.cnot(n_qubits - 1, 0)\n",
        "\n",
        "    # encoding part\n",
        "    for qubit_idx in range(n_qubits):\n",
        "      input = X[qubit_idx] * input_params[l, qubit_idx]\n",
        "      # print(input)\n",
        "      circuit.rx(qubit_idx, theta=input)\n",
        "\n",
        "  # last variational part\n",
        "  for qubit_idx in range(n_qubits):\n",
        "    circuit.rx(qubit_idx, theta=rot_params[n_layers, qubit_idx, 0])\n",
        "    circuit.ry(qubit_idx, theta=rot_params[n_layers, qubit_idx, 1])\n",
        "    circuit.rz(qubit_idx, theta=rot_params[n_layers, qubit_idx, 2])\n",
        "\n",
        "  return circuit\n",
        "\n",
        "\n",
        "class QuantumActor(eqx.Module):\n",
        "  theta: jax.Array # trainable\n",
        "  lmbd: jax.Array # trainable\n",
        "  w: jax.Array # trainable\n",
        "  n_qubits: int = eqx.field(static=True)\n",
        "  n_layers: int = eqx.field(static=True)\n",
        "  beta: float = eqx.field(static=True)\n",
        "  n_actions: Sequence[int] = eqx.field(static=True)\n",
        "  # key: int\n",
        "\n",
        "  def __init__(self, n_qubits, n_layers, beta, n_actions, key):\n",
        "\n",
        "    self.theta = jax.random.uniform(key=key, shape=(n_layers + 1, n_qubits, 3),\n",
        "                                  minval=0.0, maxval=np.pi, dtype=DTYPE)\n",
        "    self.lmbd = jnp.ones(shape=(n_layers, n_qubits), dtype=DTYPE)\n",
        "    self.w = jnp.array([[(-1.) ** i for i in range(n_actions)]])\n",
        "\n",
        "\n",
        "    self.n_qubits = n_qubits\n",
        "    self.n_layers = n_layers\n",
        "    self.beta = beta\n",
        "    self.n_actions = n_actions\n",
        "\n",
        "  def quantum_policy_circuit(self, inputs):\n",
        "\n",
        "    # this can be any PQC of the user's choice. hence, I made the decision to make a separate function within this class\n",
        "    circuit = reuploading_circuit(self.n_qubits, self.n_layers, self.theta, self.lmbd, inputs)\n",
        "\n",
        "    return K.real(circuit.expectation_ps(z=np.arange(self.n_qubits)))\n",
        "\n",
        "  def alternating(self, inputs):\n",
        "    return jnp.matmul(inputs, self.w)\n",
        "\n",
        "  def get_params(self):\n",
        "    return {'thetas': self.theta, 'lmbds': self.lmbd, 'ws': self.w}\n",
        "\n",
        "  def __call__(self, x):\n",
        "\n",
        "    pqc = self.quantum_policy_circuit(x)\n",
        "    alt = self.alternating(jnp.array([pqc], dtype=DTYPE))\n",
        "    actor_mean = eqx.nn.Lambda(lambda x: x * self.beta)(alt)\n",
        "    policy = distrax.Softmax(actor_mean)\n",
        "\n",
        "    return policy\n",
        "\n",
        "\n",
        "class TrainState(eqx.Module):\n",
        "  model: eqx.Module\n",
        "  optimizer: optax.GradientTransformation = eqx.field(static=True)\n",
        "  opt_state: optax.OptState\n",
        "\n",
        "  def __init__(self, model, optimizer, opt_state):\n",
        "    self.model = model\n",
        "    self.optimizer = optimizer\n",
        "    self.opt_state = opt_state\n",
        "\n",
        "  def apply_updates_to_model(self, new_params):\n",
        "    # this function is specific and works for this example only. one can think of\n",
        "    # generalizing it to work for updating any given attribute/params of the model.\n",
        "\n",
        "    model_new = eqx.tree_at(where=lambda model: model.theta, pytree=self.model, replace=new_params['thetas'])\n",
        "    model_new = eqx.tree_at(where=lambda model: model.lmbd, pytree=model_new, replace=new_params['lmbds'])\n",
        "    model_new = eqx.tree_at(where=lambda model: model.w, pytree=model_new, replace=new_params['ws'])\n",
        "\n",
        "    return model_new\n",
        "\n",
        "  def apply_gradients(self, params, grads):\n",
        "    grads = {'thetas': grads.theta, 'lmbds': grads.lmbd, 'ws': grads.w}\n",
        "    updates, opt_state = self.optimizer.update(grads, self.opt_state, params)\n",
        "    new_params = optax.apply_updates(params, updates)\n",
        "    model_new = self.apply_updates_to_model(new_params)\n",
        "    # model = eqx.apply_updates(self.model, updates)\n",
        "    new_train_state = self.__class__(model=model_new, optimizer=self.optimizer, opt_state=opt_state)\n",
        "    return new_train_state\n",
        "\n",
        "class Transition(NamedTuple):\n",
        "  done: jnp.ndarray\n",
        "  action: jnp.ndarray\n",
        "  reward: jnp.ndarray\n",
        "  log_prob: jnp.ndarray\n",
        "  obs: jnp.ndarray\n",
        "  # params: jnp.ndarray\n",
        "  info: jnp.ndarray\n",
        "\n",
        "\n",
        "@eqx.filter_jit\n",
        "def train_cp(conf):\n",
        "  env, env_params = gymnax.make(conf['env_name'])\n",
        "  env = FlattenObservationWrapper(env)\n",
        "  env = LogWrapper(env)\n",
        "\n",
        "  n_actions = env.action_space(env_params).n\n",
        "\n",
        "  def train(rng):\n",
        "    actor = QuantumActor(\n",
        "        n_qubits=conf['n_qubits'], n_layers=conf['n_layers'],\n",
        "        beta=conf['beta'], n_actions=n_actions, key=rng)\n",
        "\n",
        "    state_bounds = jnp.array([2.4, 2.5, 0.21, 2.5], dtype=DTYPE)\n",
        "\n",
        "    def map_nested_fn(fn):\n",
        "      '''Recursively apply `fn` to the key-value pairs of a nested dict'''\n",
        "      def map_fn(nested_dict):\n",
        "        return {k: (map_fn(v) if isinstance(v, dict) else fn(k, v))\n",
        "                for k, v in nested_dict.items()}\n",
        "      return map_fn\n",
        "\n",
        "    label_fn = map_nested_fn(lambda k, _: k)\n",
        "    optim = optax.multi_transform({'thetas': optax.amsgrad(conf['lr_theta']),\n",
        "                                  'lmbds': optax.amsgrad(conf['lr_lmbd']),\n",
        "                                  'ws': optax.amsgrad(conf['lr_w'])},\n",
        "                              label_fn)\n",
        "\n",
        "    opt_state = optim.init(actor.get_params())\n",
        "\n",
        "    train_state = TrainState(model=actor, optimizer=optim, opt_state=opt_state)\n",
        "\n",
        "    rng, _rng = jax.random.split(rng)\n",
        "    reset_rng = jax.random.split(_rng, conf['n_envs'])\n",
        "    obs, env_state = jax.vmap(env.reset, in_axes=(0, None))(reset_rng, env_params)\n",
        "\n",
        "    def apply_actor_env(network, state, rng, state_bounds):\n",
        "      norm_state = state.reshape(-1) / state_bounds\n",
        "      policy = network(norm_state)\n",
        "      action = policy.sample(seed=rng)\n",
        "      log_prob = policy.log_prob(action)\n",
        "      return action, log_prob, norm_state\n",
        "\n",
        "    def update_episode(runner_state, ununsed):\n",
        "      def env_step(runner_state, ununsed):\n",
        "        train_state, env_state, last_obs, rng = runner_state\n",
        "\n",
        "        rng, rng_net = jax.random.split(rng)\n",
        "        actor = train_state.model\n",
        "        action, log_prob, norm_last_obs = jax.vmap(\n",
        "            apply_actor_env, in_axes=(None, 0, None, None)\n",
        "            )(actor, last_obs, rng_net, state_bounds)\n",
        "\n",
        "        rng, _rng = jax.random.split(rng)\n",
        "        rng_step = jax.random.split(_rng, conf['n_envs'])\n",
        "        obs, env_state, reward, done, info = jax.vmap(\n",
        "            env.step, in_axes=(0, 0, 0, None)\n",
        "            )(rng_step, env_state, action, env_params)\n",
        "\n",
        "        transition = Transition(\n",
        "            done, action, reward, log_prob, norm_last_obs, info)\n",
        "\n",
        "        runner_state = (train_state, env_state, obs, rng)\n",
        "\n",
        "        return runner_state, transition\n",
        "\n",
        "      runner_state, traj_batch = jax.lax.scan(env_step, runner_state, None, conf['n_steps'])\n",
        "\n",
        "      train_state, env_state, last_obs, rng = runner_state\n",
        "\n",
        "      def calculate_returns(traj_batch):\n",
        "        def _compute_discounted_sum(carry, transition):\n",
        "          rewards_to_go = carry\n",
        "          reward = transition.reward\n",
        "          rewards_to_go = reward + conf['gamma'] * rewards_to_go\n",
        "          # baseline = 0\n",
        "          return rewards_to_go, rewards_to_go\n",
        "\n",
        "        init_carry = jnp.zeros_like(0, dtype=DTYPE)\n",
        "\n",
        "        def _compute_single_returns(traj):\n",
        "          _, returns = jax.lax.scan(\n",
        "              _compute_discounted_sum,\n",
        "              init_carry,\n",
        "              traj,\n",
        "              reverse=True,\n",
        "          )\n",
        "          return returns\n",
        "\n",
        "        returns = jax.vmap(_compute_single_returns)(traj_batch)\n",
        "\n",
        "        mean_returns = jnp.mean(returns, axis=1, keepdims=True)\n",
        "        std_returns = jnp.std(returns, axis=1, keepdims=True)\n",
        "        normalized_returns = (returns - mean_returns) / (std_returns + conf['eps'])\n",
        "\n",
        "        return normalized_returns\n",
        "\n",
        "      returns = calculate_returns(traj_batch)\n",
        "\n",
        "      @eqx.filter_value_and_grad\n",
        "      def reinforce_update(actor, batch_info):\n",
        "\n",
        "        obs, returns, action = batch_info\n",
        "\n",
        "        def compute_log_prob(obs_i, action_i):\n",
        "          policy = actor(obs_i)\n",
        "          log_prob_i = policy.log_prob(action_i)\n",
        "          return log_prob_i\n",
        "\n",
        "        log_probs = jax.vmap(compute_log_prob)(obs, action)\n",
        "        loss = -jnp.mean(log_probs * returns) / conf['n_steps']\n",
        "\n",
        "        return loss\n",
        "\n",
        "      obs = traj_batch.obs\n",
        "      action = traj_batch.action\n",
        "      batch = (obs, returns, action)\n",
        "      # batch_size = conf['n_steps'] * conf['n_envs']\n",
        "      print(action.shape)\n",
        "      print(returns.shape)\n",
        "      batch_size = obs.shape[0] * obs.shape[1]\n",
        "      assert batch_size == action.shape[0] * action.shape[1]\n",
        "      # concatenating everything\n",
        "      batch = jax.tree_util.tree_map(\n",
        "          lambda x: x.reshape((batch_size,) + x.shape[2:]), batch\n",
        "          )\n",
        "      print(batch[0].shape)\n",
        "      loss, grads = reinforce_update(train_state.model, batch)\n",
        "      train_state = train_state.apply_gradients(train_state.model.get_params(), grads)\n",
        "\n",
        "      update_state = (train_state, traj_batch, returns, rng)\n",
        "\n",
        "      train_state = update_state[0]\n",
        "      metric = traj_batch.info\n",
        "      # metric = traj_batch\n",
        "      rng = update_state[-1]\n",
        "\n",
        "      # Debugging mode\n",
        "      if conf['debug']:\n",
        "        def callback(info):\n",
        "          return_values = info['returned_episode_returns'][info['returned_episode']]\n",
        "          timesteps = info['timestep'][info['returned_episode']]\n",
        "          for t in range(len(timesteps)):\n",
        "            print(f\"global step={timesteps[t]}, episodic return={return_values[t]}\")\n",
        "        jax.debug.callback(callback, metric)\n",
        "\n",
        "      runner_state = (train_state, env_state, last_obs, rng)\n",
        "\n",
        "      return runner_state, metric\n",
        "\n",
        "    rng, _rng = jax.random.split(rng)\n",
        "    runner_state = (train_state, env_state, obs, _rng)\n",
        "    runner_state, metric = jax.lax.scan(update_episode,\n",
        "                                        runner_state,\n",
        "                                        None,\n",
        "                                        conf['max_episodes'] // conf['n_steps'])\n",
        "\n",
        "    return {'runner_state': runner_state, 'metrics': metric}\n",
        "\n",
        "  return train\n",
        "\n",
        "\n",
        "# conf = {'n_layers': 5,\n",
        "#         'n_qubits': 4,\n",
        "#         'beta': 1.0,\n",
        "#         'n_envs': 4,\n",
        "#         'total_timesteps': 125000,\n",
        "#         'n_steps': 10,\n",
        "#         'gamma': 0.99,\n",
        "#         'n_minibatches': 4,\n",
        "#         'update_epochs': 50000,\n",
        "#         'debug': False,\n",
        "#         'env_name': 'CartPole-v1',\n",
        "#         'lr_theta': 0.01,\n",
        "#         'lr_lmbd': 0.1,\n",
        "#         'lr_w': 0.1,\n",
        "#         # 'rng': 100,\n",
        "#         'eps': 1e-8,\n",
        "#         'max_episodes': 20000}\n",
        "\n",
        "# rng = jax.random.PRNGKey(42)\n",
        "# train_jit = jax.jit(train_cp(conf))\n",
        "# out = train_jit(rng)\n",
        "# rngs = jax.random.split(rng, 50)\n",
        "# train_vjit = jax.vmap(train_cp(conf))\n",
        "# outs = train_vjit(rngs)\n"
      ],
      "metadata": {
        "id": "mq9oz4cNfv_7"
      },
      "execution_count": 24,
      "outputs": []
    },
    {
      "cell_type": "code",
      "source": [
        "conf = {'n_layers': 5,\n",
        "        'n_qubits': 4,\n",
        "        'beta': 1.0,\n",
        "        'n_envs': 10,\n",
        "        'n_steps': 10,\n",
        "        'gamma': 1,\n",
        "        'debug': False,\n",
        "        'env_name': 'CartPole-v1',\n",
        "        'lr_theta': 0.01,\n",
        "        'lr_lmbd': 0.1,\n",
        "        'lr_w': 0.1,\n",
        "        'eps': 1e-8,\n",
        "        'max_episodes': 10000}\n",
        "\n",
        "# out = train_cp(conf)(jax.random.PRNGKey(42))\n",
        "rng = jax.random.PRNGKey(42)\n",
        "rngs = jax.random.split(rng, 50)\n",
        "train_vjit = jax.vmap(train_cp(conf))\n",
        "outs = train_vjit(rngs)"
      ],
      "metadata": {
        "colab": {
          "base_uri": "https://localhost:8080/"
        },
        "id": "k9M4iztJMOqR",
        "outputId": "60c32e23-6f97-405a-c125-683bcb08909c"
      },
      "execution_count": 29,
      "outputs": [
        {
          "output_type": "stream",
          "name": "stdout",
          "text": [
            "(10, 10)\n",
            "(10, 10)\n",
            "(100, 4)\n",
            "(10, 10)\n",
            "(10, 10)\n",
            "(100, 4)\n"
          ]
        }
      ]
    },
    {
      "cell_type": "code",
      "source": [
        "import matplotlib.pyplot as plt\n",
        "plt.plot(out['metrics']['returned_episode_returns'].mean(-1).reshape(-1))\n",
        "plt.xlabel(\"Episode\")\n",
        "plt.ylabel(\"Return\")\n",
        "plt.show()"
      ],
      "metadata": {
        "colab": {
          "base_uri": "https://localhost:8080/",
          "height": 451
        },
        "id": "oevf0Qj2NG_S",
        "outputId": "99963ec5-0e36-4647-9df8-82622227c72b"
      },
      "execution_count": 28,
      "outputs": [
        {
          "output_type": "display_data",
          "data": {
            "text/plain": [
              "<Figure size 640x480 with 1 Axes>"
            ],
            "image/png": "[encoded data removed]"
          },
          "metadata": {}
        }
      ]
    },
    {
      "cell_type": "code",
      "source": [
        "\n",
        "# with jax.checking_leaks():\n",
        "#     # Your code here\n",
        "#     out = train_cp(conf)(jax.random.PRNGKey(42))\n",
        "# out = train_cp(conf)(jax.random.PRNGKey(42))"
      ],
      "metadata": {
        "colab": {
          "base_uri": "https://localhost:8080/"
        },
        "id": "xOQ186uvs39x",
        "outputId": "ed491deb-04b4-4ab7-bc5b-71bc1596e367"
      },
      "execution_count": 14,
      "outputs": [
        {
          "output_type": "stream",
          "name": "stderr",
          "text": [
            "<ipython-input-10-e51e6e995e6f>:11: UserWarning: Explicitly requested dtype <class 'jax.numpy.float64'>  is not available, and will be truncated to dtype float32. To enable more dtypes, set the jax_enable_x64 configuration option or the JAX_ENABLE_X64 shell environment variable. See https://github.com/google/jax#current-gotchas for more.\n",
            "  params = {'thetas': jax.random.uniform(\n",
            "<ipython-input-10-e51e6e995e6f>:15: UserWarning: Explicitly requested dtype <class 'jax.numpy.float64'> requested in ones is not available, and will be truncated to dtype float32. To enable more dtypes, set the jax_enable_x64 configuration option or the JAX_ENABLE_X64 shell environment variable. See https://github.com/google/jax#current-gotchas for more.\n",
            "  'lmbds': jnp.ones(shape=(conf['n_layers'],\n",
            "<ipython-input-10-e51e6e995e6f>:18: UserWarning: Explicitly requested dtype <class 'jax.numpy.float64'> requested in array is not available, and will be truncated to dtype float32. To enable more dtypes, set the jax_enable_x64 configuration option or the JAX_ENABLE_X64 shell environment variable. See https://github.com/google/jax#current-gotchas for more.\n",
            "  'ws': jnp.array([[(-1.) ** i for i in range(n_actions)]], dtype=DTYPE)\n",
            "<ipython-input-9-f5b1f898800c>:55: UserWarning: Explicitly requested dtype <class 'jax.numpy.float64'>  is not available, and will be truncated to dtype float32. To enable more dtypes, set the jax_enable_x64 configuration option or the JAX_ENABLE_X64 shell environment variable. See https://github.com/google/jax#current-gotchas for more.\n",
            "  self.theta = jax.random.uniform(key=key, shape=(n_layers + 1, n_qubits, 3),\n",
            "<ipython-input-9-f5b1f898800c>:57: UserWarning: Explicitly requested dtype <class 'jax.numpy.float64'> requested in ones is not available, and will be truncated to dtype float32. To enable more dtypes, set the jax_enable_x64 configuration option or the JAX_ENABLE_X64 shell environment variable. See https://github.com/google/jax#current-gotchas for more.\n",
            "  self.lmbd = jnp.ones(shape=(n_layers, n_qubits), dtype=DTYPE)\n",
            "<ipython-input-10-e51e6e995e6f>:27: UserWarning: Explicitly requested dtype <class 'jax.numpy.float64'> requested in array is not available, and will be truncated to dtype float32. To enable more dtypes, set the jax_enable_x64 configuration option or the JAX_ENABLE_X64 shell environment variable. See https://github.com/google/jax#current-gotchas for more.\n",
            "  state_bounds = jnp.array([2.4, 2.5, 0.21, 2.5], dtype=DTYPE)\n",
            "<ipython-input-9-f5b1f898800c>:82: UserWarning: Explicitly requested dtype <class 'jax.numpy.float64'> requested in array is not available, and will be truncated to dtype float32. To enable more dtypes, set the jax_enable_x64 configuration option or the JAX_ENABLE_X64 shell environment variable. See https://github.com/google/jax#current-gotchas for more.\n",
            "  alt = self.alternating(jnp.array([pqc], dtype=DTYPE))\n",
            "<ipython-input-9-f5b1f898800c>:82: UserWarning: Explicitly requested dtype <class 'jax.numpy.float64'> requested in array is not available, and will be truncated to dtype float32. To enable more dtypes, set the jax_enable_x64 configuration option or the JAX_ENABLE_X64 shell environment variable. See https://github.com/google/jax#current-gotchas for more.\n",
            "  alt = self.alternating(jnp.array([pqc], dtype=DTYPE))\n",
            "<ipython-input-10-e51e6e995e6f>:83: UserWarning: Explicitly requested dtype <class 'jax.numpy.float64'> requested in zeros_like is not available, and will be truncated to dtype float32. To enable more dtypes, set the jax_enable_x64 configuration option or the JAX_ENABLE_X64 shell environment variable. See https://github.com/google/jax#current-gotchas for more.\n",
            "  init_carry = jnp.zeros_like(0, dtype=DTYPE)\n",
            "<ipython-input-9-f5b1f898800c>:82: UserWarning: Explicitly requested dtype <class 'jax.numpy.float64'> requested in array is not available, and will be truncated to dtype float32. To enable more dtypes, set the jax_enable_x64 configuration option or the JAX_ENABLE_X64 shell environment variable. See https://github.com/google/jax#current-gotchas for more.\n",
            "  alt = self.alternating(jnp.array([pqc], dtype=DTYPE))\n",
            "<ipython-input-9-f5b1f898800c>:82: UserWarning: Explicitly requested dtype <class 'jax.numpy.float64'> requested in array is not available, and will be truncated to dtype float32. To enable more dtypes, set the jax_enable_x64 configuration option or the JAX_ENABLE_X64 shell environment variable. See https://github.com/google/jax#current-gotchas for more.\n",
            "  alt = self.alternating(jnp.array([pqc], dtype=DTYPE))\n",
            "<ipython-input-10-e51e6e995e6f>:83: UserWarning: Explicitly requested dtype <class 'jax.numpy.float64'> requested in zeros_like is not available, and will be truncated to dtype float32. To enable more dtypes, set the jax_enable_x64 configuration option or the JAX_ENABLE_X64 shell environment variable. See https://github.com/google/jax#current-gotchas for more.\n",
            "  init_carry = jnp.zeros_like(0, dtype=DTYPE)\n",
            "<ipython-input-9-f5b1f898800c>:82: UserWarning: Explicitly requested dtype <class 'jax.numpy.float64'> requested in array is not available, and will be truncated to dtype float32. To enable more dtypes, set the jax_enable_x64 configuration option or the JAX_ENABLE_X64 shell environment variable. See https://github.com/google/jax#current-gotchas for more.\n",
            "  alt = self.alternating(jnp.array([pqc], dtype=DTYPE))\n"
          ]
        },
        {
          "output_type": "stream",
          "name": "stdout",
          "text": [
            "global step=32, episodic return=32.0\n",
            "global step=57, episodic return=25.0\n",
            "global step=76, episodic return=19.0\n",
            "global step=117, episodic return=41.0\n",
            "global step=217, episodic return=100.0\n",
            "global step=311, episodic return=94.0\n",
            "global step=395, episodic return=84.0\n",
            "global step=512, episodic return=117.0\n",
            "global step=561, episodic return=49.0\n",
            "global step=677, episodic return=116.0\n",
            "global step=779, episodic return=102.0\n",
            "global step=822, episodic return=43.0\n",
            "global step=850, episodic return=28.0\n",
            "global step=870, episodic return=20.0\n",
            "global step=917, episodic return=47.0\n",
            "global step=1010, episodic return=93.0\n",
            "global step=1203, episodic return=193.0\n",
            "global step=1254, episodic return=51.0\n",
            "global step=1318, episodic return=64.0\n",
            "global step=1407, episodic return=89.0\n",
            "global step=1907, episodic return=500.0\n",
            "global step=1943, episodic return=36.0\n",
            "global step=1981, episodic return=38.0\n",
            "global step=2057, episodic return=76.0\n",
            "global step=2168, episodic return=111.0\n",
            "global step=2213, episodic return=45.0\n",
            "global step=2414, episodic return=201.0\n",
            "global step=2469, episodic return=55.0\n",
            "global step=2544, episodic return=75.0\n",
            "global step=2608, episodic return=64.0\n",
            "global step=2708, episodic return=100.0\n",
            "global step=2762, episodic return=54.0\n",
            "global step=2851, episodic return=89.0\n",
            "global step=2895, episodic return=44.0\n",
            "global step=2939, episodic return=44.0\n",
            "global step=3062, episodic return=123.0\n",
            "global step=3214, episodic return=152.0\n",
            "global step=3359, episodic return=145.0\n",
            "global step=3443, episodic return=84.0\n",
            "global step=3552, episodic return=109.0\n",
            "global step=3640, episodic return=88.0\n",
            "global step=3863, episodic return=223.0\n",
            "global step=3989, episodic return=126.0\n",
            "global step=4229, episodic return=240.0\n",
            "global step=4362, episodic return=133.0\n",
            "global step=4481, episodic return=119.0\n",
            "global step=4617, episodic return=136.0\n",
            "global step=4770, episodic return=153.0\n",
            "global step=4922, episodic return=152.0\n",
            "global step=5422, episodic return=500.0\n",
            "global step=5922, episodic return=500.0\n",
            "global step=6422, episodic return=500.0\n",
            "global step=6922, episodic return=500.0\n",
            "global step=7422, episodic return=500.0\n",
            "global step=7922, episodic return=500.0\n",
            "global step=8422, episodic return=500.0\n",
            "global step=8922, episodic return=500.0\n",
            "global step=9422, episodic return=500.0\n",
            "global step=9922, episodic return=500.0\n"
          ]
        }
      ]
    },
    {
      "cell_type": "code",
      "source": [
        "import matplotlib.pyplot as plt\n",
        "for i in range(50):\n",
        "  plt.plot(outs['metrics']['returned_episode_returns'][i].mean(-1).reshape(-1))\n",
        "plt.xlabel(\"Episode\")\n",
        "plt.ylabel(\"Return\")\n",
        "plt.show()"
      ],
      "metadata": {
        "colab": {
          "base_uri": "https://localhost:8080/",
          "height": 449
        },
        "id": "4pb1SJxqs7tu",
        "outputId": "4eea5f5b-5346-49c7-d914-d264e6ec6f9a"
      },
      "execution_count": 30,
      "outputs": [
        {
          "output_type": "display_data",
          "data": {
            "text/plain": [
              "<Figure size 640x480 with 1 Axes>"
            ],
            "image/png": "[encoded data removed]"
          },
          "metadata": {}
        }
      ]
    },
    {
      "cell_type": "markdown",
      "source": [],
      "metadata": {
        "id": "nVtEegNufaNh"
      }
    },
    {
      "cell_type": "code",
      "source": [
        "type(outs['runner_state'][0].model.get_params())"
      ],
      "metadata": {
        "colab": {
          "base_uri": "https://localhost:8080/"
        },
        "id": "VpQKv4oHfELZ",
        "outputId": "5f1e2457-b7e3-4be6-8e74-720d77bed8d9"
      },
      "execution_count": 38,
      "outputs": [
        {
          "output_type": "execute_result",
          "data": {
            "text/plain": [
              "dict"
            ]
          },
          "metadata": {},
          "execution_count": 38
        }
      ]
    },
    {
      "cell_type": "code",
      "source": [
        "out['runner_state'][0].model.get_params()"
      ],
      "metadata": {
        "colab": {
          "base_uri": "https://localhost:8080/"
        },
        "id": "hTes7QAHuQMY",
        "outputId": "eb66108d-e72d-49f1-a4da-eb0f41683291"
      },
      "execution_count": 16,
      "outputs": [
        {
          "output_type": "execute_result",
          "data": {
            "text/plain": [
              "{'thetas': Array([[[ 1.565861  ,  2.1200445 ,  0.4481497 ],\n",
              "         [ 0.22830968,  2.5902557 ,  2.524495  ],\n",
              "         [ 3.0214925 ,  0.81842935,  2.8251534 ],\n",
              "         [ 0.2570623 ,  1.7158911 , -0.08308051]],\n",
              " \n",
              "        [[ 1.0606378 ,  1.8226256 ,  2.1108472 ],\n",
              "         [ 3.1958911 ,  3.1265016 ,  1.3786011 ],\n",
              "         [ 2.0359268 ,  1.3253636 ,  2.4516432 ],\n",
              "         [ 1.8849581 ,  0.4751683 ,  1.3561558 ]],\n",
              " \n",
              "        [[ 2.1840096 ,  1.9487733 ,  1.9424497 ],\n",
              "         [ 1.6786586 ,  0.6193537 ,  1.7370325 ],\n",
              "         [ 1.4270581 ,  2.939099  ,  0.82407516],\n",
              "         [ 0.36700878,  2.8985736 ,  3.072952  ]],\n",
              " \n",
              "        [[ 1.1996425 , -0.10907994,  2.0991728 ],\n",
              "         [ 1.7716439 ,  0.0913705 ,  2.9296274 ],\n",
              "         [ 1.6949264 ,  1.4600992 ,  0.73301625],\n",
              "         [ 2.6678145 ,  0.47320873,  1.6722952 ]],\n",
              " \n",
              "        [[ 1.4491268 ,  1.3773788 ,  0.21831371],\n",
              "         [ 0.00604603,  2.8121288 ,  0.50831556],\n",
              "         [ 0.9960863 ,  2.4113224 ,  1.5959505 ],\n",
              "         [ 1.5670866 ,  2.7817981 ,  0.285415  ]],\n",
              " \n",
              "        [[ 2.4836786 ,  2.385671  ,  1.0056804 ],\n",
              "         [ 2.4798617 ,  1.5456225 ,  1.4717044 ],\n",
              "         [ 2.000443  ,  0.42755696,  2.2848268 ],\n",
              "         [ 1.7360535 ,  0.7342463 ,  2.5130491 ]]], dtype=float32),\n",
              " 'lmbds': Array([[ 0.8269164 , -0.50469446, -2.6271632 , 17.087376  ],\n",
              "        [ 5.71832   , -0.13370581, -0.03830582,  4.4030576 ],\n",
              "        [-0.10035341,  2.9961002 , -1.6562381 , -8.325617  ],\n",
              "        [-1.2408534 ,  2.9947824 ,  6.716023  ,  8.335591  ],\n",
              "        [ 0.07884237, -4.711825  ,  4.5046015 ,  7.3456244 ]],      dtype=float32),\n",
              " 'ws': Array([[ 28.429081, -28.429081]], dtype=float32)}"
            ]
          },
          "metadata": {},
          "execution_count": 16
        }
      ]
    },
    {
      "cell_type": "code",
      "source": [
        "outs['runner_state'][0].model.get_params()['ws']"
      ],
      "metadata": {
        "colab": {
          "base_uri": "https://localhost:8080/"
        },
        "id": "uMMIYDv3uXOE",
        "outputId": "e259c1dd-3478-4913-c0c6-9850ab6e40c3"
      },
      "execution_count": 40,
      "outputs": [
        {
          "output_type": "execute_result",
          "data": {
            "text/plain": [
              "Array([[[ 3.07315666, -3.07315666]],\n",
              "\n",
              "       [[-4.03457022,  4.03457022]],\n",
              "\n",
              "       [[ 2.21377314, -2.21377314]],\n",
              "\n",
              "       [[ 4.55148361, -4.55148361]],\n",
              "\n",
              "       [[ 3.22563082, -3.22563082]],\n",
              "\n",
              "       [[-2.3016937 ,  2.3016937 ]],\n",
              "\n",
              "       [[ 0.81746269, -0.81746269]],\n",
              "\n",
              "       [[ 4.03379042, -4.03379042]],\n",
              "\n",
              "       [[ 2.99824739, -2.99824739]],\n",
              "\n",
              "       [[ 0.03311249, -0.03311249]],\n",
              "\n",
              "       [[ 5.95818105, -5.95818105]],\n",
              "\n",
              "       [[ 2.91174893, -2.91174893]],\n",
              "\n",
              "       [[ 0.78827977, -0.78827977]],\n",
              "\n",
              "       [[-1.72369032,  1.72369032]],\n",
              "\n",
              "       [[ 3.22558783, -3.22558783]],\n",
              "\n",
              "       [[ 4.08977523, -4.08977523]],\n",
              "\n",
              "       [[ 0.85230065, -0.85230065]],\n",
              "\n",
              "       [[ 0.90081095, -0.90081095]],\n",
              "\n",
              "       [[ 4.85900675, -4.85900675]],\n",
              "\n",
              "       [[ 3.99558486, -3.99558486]],\n",
              "\n",
              "       [[ 4.00819734, -4.00819734]],\n",
              "\n",
              "       [[ 1.23726879, -1.23726879]],\n",
              "\n",
              "       [[ 1.45831931, -1.45831931]],\n",
              "\n",
              "       [[ 3.50351353, -3.50351353]],\n",
              "\n",
              "       [[-3.27640548,  3.27640548]],\n",
              "\n",
              "       [[-2.47027857,  2.47027857]],\n",
              "\n",
              "       [[-4.18808763,  4.18808763]],\n",
              "\n",
              "       [[ 1.67665584, -1.67665584]],\n",
              "\n",
              "       [[ 3.23656018, -3.23656018]],\n",
              "\n",
              "       [[-3.54239289,  3.54239289]],\n",
              "\n",
              "       [[ 1.70387647, -1.70387647]],\n",
              "\n",
              "       [[ 4.89519072, -4.89519072]],\n",
              "\n",
              "       [[ 3.85257686, -3.85257686]],\n",
              "\n",
              "       [[ 1.05749189, -1.05749189]],\n",
              "\n",
              "       [[ 1.60097776, -1.60097776]],\n",
              "\n",
              "       [[ 4.17177396, -4.17177396]],\n",
              "\n",
              "       [[-2.27375315,  2.27375315]],\n",
              "\n",
              "       [[-0.34957125,  0.34957125]],\n",
              "\n",
              "       [[ 2.83045082, -2.83045082]],\n",
              "\n",
              "       [[ 4.08478805, -4.08478805]],\n",
              "\n",
              "       [[-0.01235649,  0.01235649]],\n",
              "\n",
              "       [[ 5.02236222, -5.02236222]],\n",
              "\n",
              "       [[-0.13709331,  0.13709331]],\n",
              "\n",
              "       [[ 2.56366966, -2.56366966]],\n",
              "\n",
              "       [[-2.19872587,  2.19872587]],\n",
              "\n",
              "       [[ 2.35763189, -2.35763189]],\n",
              "\n",
              "       [[ 0.7427152 , -0.7427152 ]],\n",
              "\n",
              "       [[ 4.6387441 , -4.6387441 ]],\n",
              "\n",
              "       [[-1.48904031,  1.48904031]],\n",
              "\n",
              "       [[ 3.60553333, -3.60553333]]], dtype=float64)"
            ]
          },
          "metadata": {},
          "execution_count": 40
        }
      ]
    },
    {
      "cell_type": "code",
      "source": [
        "a.reshape(-1)"
      ],
      "metadata": {
        "colab": {
          "base_uri": "https://localhost:8080/"
        },
        "id": "4_QbNUnRRlNr",
        "outputId": "0b60bbd1-a575-459d-a136-66d63f07670a"
      },
      "execution_count": 37,
      "outputs": [
        {
          "output_type": "execute_result",
          "data": {
            "text/plain": [
              "array([1, 2, 3, 4, 5, 6, 7, 8])"
            ]
          },
          "metadata": {},
          "execution_count": 37
        }
      ]
    },
    {
      "cell_type": "code",
      "source": [
        "a"
      ],
      "metadata": {
        "colab": {
          "base_uri": "https://localhost:8080/",
          "height": 144
        },
        "id": "_cAeFNbvSL3l",
        "outputId": "2469590d-46e9-49c8-949e-8b8c96dbbafb"
      },
      "execution_count": 1,
      "outputs": [
        {
          "output_type": "error",
          "ename": "NameError",
          "evalue": "name 'a' is not defined",
          "traceback": [
            "\u001b[0;31m---------------------------------------------------------------------------\u001b[0m",
            "\u001b[0;31mNameError\u001b[0m                                 Traceback (most recent call last)",
            "\u001b[0;32m<ipython-input-1-3f786850e387>\u001b[0m in \u001b[0;36m<cell line: 1>\u001b[0;34m()\u001b[0m\n\u001b[0;32m----> 1\u001b[0;31m \u001b[0ma\u001b[0m\u001b[0;34m\u001b[0m\u001b[0;34m\u001b[0m\u001b[0m\n\u001b[0m",
            "\u001b[0;31mNameError\u001b[0m: name 'a' is not defined"
          ]
        }
      ]
    },
    {
      "cell_type": "code",
      "source": [
        "import jax.numpy as jnp\n",
        "\n",
        "a = jnp.array([[1,2,3,4], [5,6,7,8]])"
      ],
      "metadata": {
        "id": "7F5GZtdwbtF5"
      },
      "execution_count": 4,
      "outputs": []
    },
    {
      "cell_type": "code",
      "source": [
        "a.mean(axis=1)"
      ],
      "metadata": {
        "colab": {
          "base_uri": "https://localhost:8080/"
        },
        "id": "u60hBruye2jC",
        "outputId": "cba31625-ed00-43a7-d7ae-59e5340b4713"
      },
      "execution_count": 7,
      "outputs": [
        {
          "output_type": "execute_result",
          "data": {
            "text/plain": [
              "Array([2.5, 6.5], dtype=float32)"
            ]
          },
          "metadata": {},
          "execution_count": 7
        }
      ]
    },
    {
      "cell_type": "code",
      "source": [
        "a"
      ],
      "metadata": {
        "colab": {
          "base_uri": "https://localhost:8080/"
        },
        "id": "dz5YjIfrcDSu",
        "outputId": "11adf54e-5980-408e-bdf3-21a57dbc1381"
      },
      "execution_count": 13,
      "outputs": [
        {
          "output_type": "execute_result",
          "data": {
            "text/plain": [
              "Array([[1, 5],\n",
              "       [2, 6],\n",
              "       [3, 7],\n",
              "       [4, 8]], dtype=int32)"
            ]
          },
          "metadata": {},
          "execution_count": 13
        }
      ]
    },
    {
      "cell_type": "code",
      "source": [
        "a / jnp.array([1,2,3,4])"
      ],
      "metadata": {
        "colab": {
          "base_uri": "https://localhost:8080/"
        },
        "id": "5ty6fgRjcEEH",
        "outputId": "f99c8053-1ae9-4f4c-f470-2b547aeaf94f"
      },
      "execution_count": 8,
      "outputs": [
        {
          "output_type": "execute_result",
          "data": {
            "text/plain": [
              "Array([[1.       , 1.       , 1.       , 1.       ],\n",
              "       [5.       , 3.       , 2.3333333, 2.       ]], dtype=float32)"
            ]
          },
          "metadata": {},
          "execution_count": 8
        }
      ]
    },
    {
      "cell_type": "code",
      "source": [
        "# import jax.numpy as jnp\n",
        "\n",
        "# # Example batch size\n",
        "# batch_size = 3\n",
        "\n",
        "# actor = QuantumActor(\n",
        "#     n_qubits=conf['n_qubits'], n_layers=conf['n_layers'],\n",
        "#     beta=conf['beta'], n_actions=n_actions, key=rng)\n",
        "\n",
        "# @jax.vmap\n",
        "# def apply_actor(network, state, rng):\n",
        "#   policy = network(state.reshape(-1) / jnp.array([1,2,3,4]))\n",
        "#   action = policy.sample(seed=rng)\n",
        "#   log_prob = policy.log_prob(action)\n",
        "#   return action, log_prob\n",
        "\n",
        "# # Dummy inputs\n",
        "# dummy_state = jnp.zeros((batch_size, 4))  # Assuming input_dim is defined\n",
        "\n",
        "# # Dummy RNG\n",
        "# dummy_rng = jax.random.PRNGKey(0)\n",
        "\n",
        "# # Apply the actor function\n",
        "# actions, log_probs = apply_actor(network, dummy_state, dummy_rng)\n",
        "\n",
        "# # Print the datatype of the return value\n",
        "# print(type((actions, log_probs)))  # Output: <class 'tuple'>\n",
        "# print(type(actions))  # Output: <class 'jax.interpreters.xla.DeviceArray'>\n",
        "# print(type(log_probs))  # Output: <class 'jax.interpreters.xla.DeviceArray'>\n"
      ],
      "metadata": {
        "id": "Rdx1b-z0cLNy"
      },
      "execution_count": null,
      "outputs": []
    }
  ]
}